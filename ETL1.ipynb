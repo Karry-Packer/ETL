{
 "cells": [
  {
   "cell_type": "code",
   "execution_count": 1,
   "id": "c8c4f646-e3ef-422c-b176-b364f666531b",
   "metadata": {},
   "outputs": [
    {
     "name": "stdout",
     "output_type": "stream",
     "text": [
      "Data successfully inserted into PostgreSQL!\n"
     ]
    }
   ],
   "source": [
    "import requests\n",
    "import pandas as pd\n",
    "import psycopg2\n",
    "\n",
    "# PostgreSQL connection details\n",
    "DB_NAME = \"crypto_data\"\n",
    "DB_USER = \"postgres\"\n",
    "DB_PASSWORD = \"1234\"\n",
    "DB_HOST = \"localhost\"\n",
    "DB_PORT = \"5432\"\n",
    "\n",
    "# Connect to PostgreSQL\n",
    "conn = psycopg2.connect(\n",
    "    dbname=DB_NAME, user=DB_USER, password=DB_PASSWORD, host=DB_HOST, port=DB_PORT\n",
    ")\n",
    "cur = conn.cursor()\n",
    "\n",
    "# API URL and parameters\n",
    "url = \"https://api.coingecko.com/api/v3/coins/markets\"\n",
    "params = {\n",
    "    \"vs_currency\": \"usd\",\n",
    "    \"order\": \"market_cap_desc\",\n",
    "    \"per_page\": 10,\n",
    "    \"page\": 1,\n",
    "    \"sparkline\": \"false\"\n",
    "}\n",
    "\n",
    "# Fetch data\n",
    "response = requests.get(url, params=params)\n",
    "data = response.json()\n",
    "\n",
    "# Convert to DataFrame and clean\n",
    "df = pd.DataFrame(data)\n",
    "df = df[['id', 'symbol', 'name', 'current_price', 'market_cap', 'total_volume']]\n",
    "df = df.fillna(0)\n",
    "\n",
    "# Insert data into PostgreSQL\n",
    "for _, row in df.iterrows():\n",
    "    cur.execute(\"\"\"\n",
    "        INSERT INTO crypto_prices (coin_id, symbol, name, current_price, market_cap, total_volume)\n",
    "        VALUES (%s, %s, %s, %s, %s, %s)\n",
    "        \"\"\",\n",
    "        (row['id'], row['symbol'], row['name'], row['current_price'], row['market_cap'], row['total_volume'])\n",
    "    )\n",
    "\n",
    "# Commit and close\n",
    "conn.commit()\n",
    "cur.close()\n",
    "conn.close()\n",
    "\n",
    "print(\"Data successfully inserted into PostgreSQL!\")\n"
   ]
  },
  {
   "cell_type": "code",
   "execution_count": null,
   "id": "df05b9e7-16f1-49b1-8434-72de991f98f2",
   "metadata": {},
   "outputs": [],
   "source": []
  },
  {
   "cell_type": "code",
   "execution_count": null,
   "id": "2616dd93-a331-4271-9f5c-bfe12ebfdc1c",
   "metadata": {},
   "outputs": [],
   "source": []
  }
 ],
 "metadata": {
  "kernelspec": {
   "display_name": "Python 3 (ipykernel)",
   "language": "python",
   "name": "python3"
  },
  "language_info": {
   "codemirror_mode": {
    "name": "ipython",
    "version": 3
   },
   "file_extension": ".py",
   "mimetype": "text/x-python",
   "name": "python",
   "nbconvert_exporter": "python",
   "pygments_lexer": "ipython3",
   "version": "3.12.4"
  }
 },
 "nbformat": 4,
 "nbformat_minor": 5
}
